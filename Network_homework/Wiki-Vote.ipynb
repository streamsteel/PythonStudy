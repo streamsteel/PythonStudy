{
 "cells": [
  {
   "cell_type": "code",
   "execution_count": 146,
   "metadata": {},
   "outputs": [],
   "source": [
    "import numpy as np # linear algebra\n",
    "import pandas as pd # data processing, CSV file I/O (e.g. pd.read_csv)\n",
    "import seaborn as sns\n",
    "import matplotlib.pyplot as plt\n",
    "%matplotlib inline\n",
    "\n",
    "from Utils import *\n",
    "import networkx as nx"
   ]
  },
  {
   "cell_type": "code",
   "execution_count": 167,
   "metadata": {},
   "outputs": [],
   "source": [
    "# 读取数据\n",
    "data = read_file('Wiki-Vote.txt')\n",
    "G = nx.MultiDiGraph(data)"
   ]
  },
  {
   "cell_type": "code",
   "execution_count": 172,
   "metadata": {},
   "outputs": [
    {
     "data": {
      "text/plain": [
       "7115"
      ]
     },
     "execution_count": 172,
     "metadata": {},
     "output_type": "execute_result"
    }
   ],
   "source": [
    "# 网络中节点的数量\n",
    "G.number_of_nodes()"
   ]
  },
  {
   "cell_type": "code",
   "execution_count": 173,
   "metadata": {},
   "outputs": [
    {
     "data": {
      "text/plain": [
       "0"
      ]
     },
     "execution_count": 173,
     "metadata": {},
     "output_type": "execute_result"
    }
   ],
   "source": [
    "# 统计自环数量\n",
    "G.number_of_selfloops()"
   ]
  },
  {
   "cell_type": "code",
   "execution_count": 174,
   "metadata": {},
   "outputs": [
    {
     "data": {
      "text/plain": [
       "103689"
      ]
     },
     "execution_count": 174,
     "metadata": {},
     "output_type": "execute_result"
    }
   ],
   "source": [
    "# 统计有向边数量\n",
    "G.number_of_edges() - G.number_of_selfloops()"
   ]
  },
  {
   "cell_type": "code",
   "execution_count": 185,
   "metadata": {},
   "outputs": [
    {
     "data": {
      "text/plain": [
       "100762"
      ]
     },
     "execution_count": 185,
     "metadata": {},
     "output_type": "execute_result"
    }
   ],
   "source": [
    "# 统计无向边数量\n",
    "G.to_undirected().size()"
   ]
  },
  {
   "cell_type": "code",
   "execution_count": 186,
   "metadata": {},
   "outputs": [
    {
     "data": {
      "text/plain": [
       "2927"
      ]
     },
     "execution_count": 186,
     "metadata": {},
     "output_type": "execute_result"
    }
   ],
   "source": [
    "# 统计互惠边数量\n",
    "G.number_of_edges() - G.number_of_selfloops() - G.to_undirected().size()"
   ]
  },
  {
   "cell_type": "code",
   "execution_count": 198,
   "metadata": {},
   "outputs": [
    {
     "name": "stdout",
     "output_type": "stream",
     "text": [
      "出度非零的节点数量 6110\n",
      "出度大于10的节点数量 1612\n"
     ]
    }
   ],
   "source": [
    "# 统计出度非零(大于10)的节点数量\n",
    "out_0_count = 0\n",
    "out_10_count = 0\n",
    "for (f, t) in G.out_degree():\n",
    "    if t > 0:\n",
    "        out_0_count += 1\n",
    "    if t > 10:\n",
    "        out_10_count += 1\n",
    "        \n",
    "print('出度非零的节点数量', out_0_count)\n",
    "print('出度大于10的节点数量', out_10_count)"
   ]
  },
  {
   "cell_type": "code",
   "execution_count": 199,
   "metadata": {},
   "outputs": [
    {
     "name": "stdout",
     "output_type": "stream",
     "text": [
      "入度非零的节点数量 2381\n",
      "入度大于10的节点数量 1906\n"
     ]
    }
   ],
   "source": [
    "# 统计入度非零的节点数量\n",
    "in_0_count = 0\n",
    "in_10_count = 0\n",
    "for (f, t) in G.in_degree():\n",
    "    if t > 0:\n",
    "        in_0_count += 1\n",
    "    if t > 10:\n",
    "        in_10_count += 1\n",
    "        \n",
    "print('入度非零的节点数量', in_0_count)\n",
    "print('入度大于10的节点数量', in_10_count)"
   ]
  }
 ],
 "metadata": {
  "kernelspec": {
   "display_name": "Python 3",
   "language": "python",
   "name": "python3"
  },
  "language_info": {
   "codemirror_mode": {
    "name": "ipython",
    "version": 3
   },
   "file_extension": ".py",
   "mimetype": "text/x-python",
   "name": "python",
   "nbconvert_exporter": "python",
   "pygments_lexer": "ipython3",
   "version": "3.6.4"
  }
 },
 "nbformat": 4,
 "nbformat_minor": 2
}
